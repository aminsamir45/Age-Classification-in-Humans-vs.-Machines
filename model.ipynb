{
 "cells": [
  {
   "cell_type": "code",
   "execution_count": 1,
   "metadata": {},
   "outputs": [
    {
     "name": "stderr",
     "output_type": "stream",
     "text": [
      "/Library/Frameworks/Python.framework/Versions/3.10/lib/python3.10/site-packages/tqdm/auto.py:21: TqdmWarning: IProgress not found. Please update jupyter and ipywidgets. See https://ipywidgets.readthedocs.io/en/stable/user_install.html\n",
      "  from .autonotebook import tqdm as notebook_tqdm\n",
      "/Library/Frameworks/Python.framework/Versions/3.10/lib/python3.10/site-packages/transformers/utils/generic.py:441: UserWarning: torch.utils._pytree._register_pytree_node is deprecated. Please use torch.utils._pytree.register_pytree_node instead.\n",
      "  _torch_pytree._register_pytree_node(\n",
      "/Library/Frameworks/Python.framework/Versions/3.10/lib/python3.10/site-packages/transformers/utils/generic.py:309: UserWarning: torch.utils._pytree._register_pytree_node is deprecated. Please use torch.utils._pytree.register_pytree_node instead.\n",
      "  _torch_pytree._register_pytree_node(\n",
      "/Library/Frameworks/Python.framework/Versions/3.10/lib/python3.10/site-packages/transformers/utils/generic.py:309: UserWarning: torch.utils._pytree._register_pytree_node is deprecated. Please use torch.utils._pytree.register_pytree_node instead.\n",
      "  _torch_pytree._register_pytree_node(\n"
     ]
    }
   ],
   "source": [
    "import pandas as pd \n",
    "import numpy as np\n",
    "import matplotlib.pyplot as plt\n",
    "\n",
    "import requests\n",
    "from PIL import Image\n",
    "from io import BytesIO\n",
    "import os\n",
    "import csv\n",
    "\n",
    "from transformers import ViTFeatureExtractor, ViTForImageClassification\n",
    "import torch"
   ]
  },
  {
   "cell_type": "code",
   "execution_count": 18,
   "metadata": {},
   "outputs": [
    {
     "name": "stdout",
     "output_type": "stream",
     "text": [
      "An error occurred with image .DS_Store: cannot identify image file '/Users/samin/Desktop/Classes/9.60/9.60-Project/datasets/clean_dataset/.DS_Store'\n",
      "Accuracy for clean: 62.00%\n",
      "An error occurred with image .DS_Store: cannot identify image file '/Users/samin/Desktop/Classes/9.60/9.60-Project/datasets/filter 1/.DS_Store'\n",
      "Accuracy for filter 1: 58.00%\n",
      "Accuracy for filter 2: 56.00%\n",
      "Accuracy for filter 3: 60.00%\n",
      "Accuracy for filter 4: 58.00%\n",
      "Accuracy for filter 5: 58.00%\n",
      "Accuracy for filter 6: 52.00%\n",
      "Accuracy for filter 7: 58.00%\n",
      "Accuracy for filter 8: 50.00%\n",
      "Accuracy for filter 9: 52.00%\n",
      "Accuracy for filter 10: 0.00%\n",
      "Accuracy for filter 11: 0.00%\n",
      "An error occurred with image .DS_Store: cannot identify image file '/Users/samin/Desktop/Classes/9.60/9.60-Project/datasets/filter 12/.DS_Store'\n",
      "Accuracy for filter 12: 0.00%\n"
     ]
    }
   ],
   "source": [
    "from transformers import ViTForImageClassification, ViTFeatureExtractor\n",
    "import torch\n",
    "from PIL import Image\n",
    "import os\n",
    "import csv\n",
    "\n",
    "# Initialize model and feature extractor\n",
    "model = ViTForImageClassification.from_pretrained('nateraw/vit-age-classifier')\n",
    "feature_extractor = ViTFeatureExtractor.from_pretrained('nateraw/vit-age-classifier')\n",
    "\n",
    "# Directory mapping\n",
    "image_directories = {\n",
    "    \"clean\": '/Users/samin/Desktop/Classes/9.60/9.60-Project/datasets/clean_dataset'\n",
    "}\n",
    "# Adding filter directories\n",
    "for i in range(1, 13):\n",
    "    image_directories[f\"filter {i}\"] = f'/Users/samin/Desktop/Classes/9.60/9.60-Project/datasets/filter {i}'\n",
    "\n",
    "def evaluate_model(image_dir, csv_file_path, dataset_name):\n",
    "    predictions = []\n",
    "    # Process each image\n",
    "    for image_name in os.listdir(image_dir):\n",
    "        image_path = os.path.join(image_dir, image_name)\n",
    "        try:\n",
    "            with Image.open(image_path) as im:\n",
    "                inputs = feature_extractor(images=im, return_tensors=\"pt\")\n",
    "                outputs = model(**inputs)\n",
    "                proba = torch.softmax(outputs.logits, dim=1)\n",
    "                pred_class = proba.argmax(1).item()\n",
    "                predictions.append((image_name, pred_class))\n",
    "        except Exception as e:\n",
    "            print(f\"An error occurred with image {image_name}: {e}\")\n",
    "\n",
    "    # Read labels\n",
    "    actual_labels = {}\n",
    "    with open(csv_file_path, mode='r') as csvfile:\n",
    "        csvreader = csv.DictReader(csvfile)\n",
    "        for row in csvreader:\n",
    "            actual_labels[row['image_name']] = int(row['class_label'])\n",
    "\n",
    "    # Calculate accuracy\n",
    "    correct_predictions = 0\n",
    "    for image_name, pred_class in predictions:\n",
    "        if image_name in actual_labels:\n",
    "            actual_class = actual_labels[image_name]\n",
    "            if pred_class == actual_class:\n",
    "                correct_predictions += 1\n",
    "\n",
    "    accuracy = correct_predictions / len(predictions) if predictions else 0\n",
    "    print(f\"Accuracy for {dataset_name}: {accuracy * 100:.2f}%\")\n",
    "\n",
    "# Evaluate model on datasets\n",
    "for dataset_name, image_dir in image_directories.items():\n",
    "    # Determine which labels file to use\n",
    "    if \"filter\" in dataset_name:\n",
    "        csv_file_path = '/Users/samin/Desktop/Classes/9.60/9.60-Project/datasets/labels 2.csv'\n",
    "    else:\n",
    "        csv_file_path = '/Users/samin/Desktop/Classes/9.60/9.60-Project/datasets/labels.csv'\n",
    "    evaluate_model(image_dir, csv_file_path, dataset_name)\n"
   ]
  }
 ],
 "metadata": {
  "kernelspec": {
   "display_name": "Python 3",
   "language": "python",
   "name": "python3"
  },
  "language_info": {
   "codemirror_mode": {
    "name": "ipython",
    "version": 3
   },
   "file_extension": ".py",
   "mimetype": "text/x-python",
   "name": "python",
   "nbconvert_exporter": "python",
   "pygments_lexer": "ipython3",
   "version": "3.10.0"
  }
 },
 "nbformat": 4,
 "nbformat_minor": 2
}
